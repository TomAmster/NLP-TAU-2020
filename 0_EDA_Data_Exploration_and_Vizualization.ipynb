{
  "nbformat": 4,
  "nbformat_minor": 0,
  "metadata": {
    "colab": {
      "name": "0. EDA - Data Exploration and Vizualization.ipynb",
      "provenance": [],
      "toc_visible": true,
      "include_colab_link": true
    },
    "kernelspec": {
      "name": "python3",
      "display_name": "Python 3"
    }
  },
  "cells": [
    {
      "cell_type": "markdown",
      "metadata": {
        "id": "view-in-github",
        "colab_type": "text"
      },
      "source": [
        "<a href=\"https://colab.research.google.com/github/TomAmster/NLP-TAU-2020/blob/master/0_EDA_Data_Exploration_and_Vizualization.ipynb\" target=\"_parent\"><img src=\"https://colab.research.google.com/assets/colab-badge.svg\" alt=\"Open In Colab\"/></a>"
      ]
    },
    {
      "cell_type": "code",
      "metadata": {
        "id": "PGhEmOgEKDMs",
        "colab_type": "code",
        "outputId": "e9b7aad7-ef07-43e8-d273-5c3a9c559936",
        "colab": {
          "base_uri": "https://localhost:8080/",
          "height": 72
        }
      },
      "source": [
        "import pandas as pd\n",
        "import itertools\n",
        "from google.colab import drive\n",
        "import matplotlib.pyplot as plt\n",
        "import csv\n",
        "import seaborn as sns \n",
        "import numpy as np\n",
        "from  numpy import int32\n",
        "from collections import Counter, defaultdict\n",
        "from os import path"
      ],
      "execution_count": 0,
      "outputs": [
        {
          "output_type": "stream",
          "text": [
            "/usr/local/lib/python3.6/dist-packages/statsmodels/tools/_testing.py:19: FutureWarning: pandas.util.testing is deprecated. Use the functions in the public API at pandas.testing instead.\n",
            "  import pandas.util.testing as tm\n"
          ],
          "name": "stderr"
        }
      ]
    },
    {
      "cell_type": "code",
      "metadata": {
        "id": "54VDiI2YX3Er",
        "colab_type": "code",
        "outputId": "d65e74a9-914a-4fab-cbc0-a743e96fe0a0",
        "colab": {
          "base_uri": "https://localhost:8080/",
          "height": 125
        }
      },
      "source": [
        "drive.mount('/content/drive', force_remount=True)\n"
      ],
      "execution_count": 0,
      "outputs": [
        {
          "output_type": "stream",
          "text": [
            "Go to this URL in a browser: https://accounts.google.com/o/oauth2/auth?client_id=947318989803-6bn6qk8qdgf4n4g3pfee6491hc0brc4i.apps.googleusercontent.com&redirect_uri=urn%3aietf%3awg%3aoauth%3a2.0%3aoob&response_type=code&scope=email%20https%3a%2f%2fwww.googleapis.com%2fauth%2fdocs.test%20https%3a%2f%2fwww.googleapis.com%2fauth%2fdrive%20https%3a%2f%2fwww.googleapis.com%2fauth%2fdrive.photos.readonly%20https%3a%2f%2fwww.googleapis.com%2fauth%2fpeopleapi.readonly\n",
            "\n",
            "Enter your authorization code:\n",
            "··········\n",
            "Mounted at /content/drive\n"
          ],
          "name": "stdout"
        }
      ]
    },
    {
      "cell_type": "markdown",
      "metadata": {
        "id": "ErmSRcHwZ4h7",
        "colab_type": "text"
      },
      "source": [
        "# EDA - Explaratory Data Analysis"
      ]
    },
    {
      "cell_type": "markdown",
      "metadata": {
        "id": "KlhRC8JSewLv",
        "colab_type": "text"
      },
      "source": [
        "## **Load MIMIC tables NOTEEVENTS and DIAGNOSES_ICD**"
      ]
    },
    {
      "cell_type": "code",
      "metadata": {
        "id": "yfKFWU4BV-ra",
        "colab_type": "code",
        "colab": {}
      },
      "source": [
        "note_events=pd.read_csv('/content/drive/Shared drives/NLP Seminar/Data/NOTEEVENTS.csv',dtype={'ROW_ID':np.int32, 'SUBJECT_ID': np.int32,'HADM_ID': np.float64,\n",
        "                                       'CHARTDATE':str,'STORETIME':str,'CHARTTIME':str,\n",
        "                                       'STORETIME': str,'CATEGORY': str,'DESCRIPTION':str,'CGID':str,'ISERROR':str,\n",
        "                                        'TEXT':str}, parse_dates=['CHARTDATE'])\n",
        "\n",
        "diagnoses_icd=pd.read_csv('/content/drive/Shared drives/NLP Seminar/Data/DIAGNOSES_ICD.csv',dtype={'ROW_ID':np.int32, 'SUBJECT_ID': np.int32,'HADM_ID': np.int32,\n",
        "                                            'SEQ_NUM':  np.float64,'ICD9_CODE':str})"
      ],
      "execution_count": 0,
      "outputs": []
    },
    {
      "cell_type": "markdown",
      "metadata": {
        "id": "sxe37LIOe4HM",
        "colab_type": "text"
      },
      "source": [
        "## NoteEvents Exploration"
      ]
    },
    {
      "cell_type": "code",
      "metadata": {
        "id": "0ozReUqpeuOu",
        "colab_type": "code",
        "outputId": "62c0fcea-af7a-458e-9e3a-ed5be0018fac",
        "colab": {
          "base_uri": "https://localhost:8080/",
          "height": 235
        }
      },
      "source": [
        "note_events.count()"
      ],
      "execution_count": 0,
      "outputs": [
        {
          "output_type": "execute_result",
          "data": {
            "text/plain": [
              "ROW_ID         2083180\n",
              "SUBJECT_ID     2083180\n",
              "HADM_ID        1851344\n",
              "CHARTDATE      2083180\n",
              "CHARTTIME      1766614\n",
              "STORETIME      1246404\n",
              "CATEGORY       2083180\n",
              "DESCRIPTION    2083180\n",
              "CGID           1246404\n",
              "ISERROR            886\n",
              "TEXT           2083180\n",
              "dtype: int64"
            ]
          },
          "metadata": {
            "tags": []
          },
          "execution_count": 6
        }
      ]
    },
    {
      "cell_type": "code",
      "metadata": {
        "id": "CoShKIf6fB5j",
        "colab_type": "code",
        "outputId": "561bc2ac-773f-4459-e433-b541641145cd",
        "colab": {
          "base_uri": "https://localhost:8080/",
          "height": 198
        }
      },
      "source": [
        "note_events.head()"
      ],
      "execution_count": 0,
      "outputs": [
        {
          "output_type": "execute_result",
          "data": {
            "text/html": [
              "<div>\n",
              "<style scoped>\n",
              "    .dataframe tbody tr th:only-of-type {\n",
              "        vertical-align: middle;\n",
              "    }\n",
              "\n",
              "    .dataframe tbody tr th {\n",
              "        vertical-align: top;\n",
              "    }\n",
              "\n",
              "    .dataframe thead th {\n",
              "        text-align: right;\n",
              "    }\n",
              "</style>\n",
              "<table border=\"1\" class=\"dataframe\">\n",
              "  <thead>\n",
              "    <tr style=\"text-align: right;\">\n",
              "      <th></th>\n",
              "      <th>ROW_ID</th>\n",
              "      <th>SUBJECT_ID</th>\n",
              "      <th>HADM_ID</th>\n",
              "      <th>CHARTDATE</th>\n",
              "      <th>CHARTTIME</th>\n",
              "      <th>STORETIME</th>\n",
              "      <th>CATEGORY</th>\n",
              "      <th>DESCRIPTION</th>\n",
              "      <th>CGID</th>\n",
              "      <th>ISERROR</th>\n",
              "      <th>TEXT</th>\n",
              "    </tr>\n",
              "  </thead>\n",
              "  <tbody>\n",
              "    <tr>\n",
              "      <th>0</th>\n",
              "      <td>174</td>\n",
              "      <td>22532</td>\n",
              "      <td>167853.0</td>\n",
              "      <td>2151-08-04</td>\n",
              "      <td>NaN</td>\n",
              "      <td>NaN</td>\n",
              "      <td>Discharge summary</td>\n",
              "      <td>Report</td>\n",
              "      <td>NaN</td>\n",
              "      <td>NaN</td>\n",
              "      <td>Admission Date:  [**2151-7-16**]       Dischar...</td>\n",
              "    </tr>\n",
              "    <tr>\n",
              "      <th>1</th>\n",
              "      <td>175</td>\n",
              "      <td>13702</td>\n",
              "      <td>107527.0</td>\n",
              "      <td>2118-06-14</td>\n",
              "      <td>NaN</td>\n",
              "      <td>NaN</td>\n",
              "      <td>Discharge summary</td>\n",
              "      <td>Report</td>\n",
              "      <td>NaN</td>\n",
              "      <td>NaN</td>\n",
              "      <td>Admission Date:  [**2118-6-2**]       Discharg...</td>\n",
              "    </tr>\n",
              "    <tr>\n",
              "      <th>2</th>\n",
              "      <td>176</td>\n",
              "      <td>13702</td>\n",
              "      <td>167118.0</td>\n",
              "      <td>2119-05-25</td>\n",
              "      <td>NaN</td>\n",
              "      <td>NaN</td>\n",
              "      <td>Discharge summary</td>\n",
              "      <td>Report</td>\n",
              "      <td>NaN</td>\n",
              "      <td>NaN</td>\n",
              "      <td>Admission Date:  [**2119-5-4**]              D...</td>\n",
              "    </tr>\n",
              "    <tr>\n",
              "      <th>3</th>\n",
              "      <td>177</td>\n",
              "      <td>13702</td>\n",
              "      <td>196489.0</td>\n",
              "      <td>2124-08-18</td>\n",
              "      <td>NaN</td>\n",
              "      <td>NaN</td>\n",
              "      <td>Discharge summary</td>\n",
              "      <td>Report</td>\n",
              "      <td>NaN</td>\n",
              "      <td>NaN</td>\n",
              "      <td>Admission Date:  [**2124-7-21**]              ...</td>\n",
              "    </tr>\n",
              "    <tr>\n",
              "      <th>4</th>\n",
              "      <td>178</td>\n",
              "      <td>26880</td>\n",
              "      <td>135453.0</td>\n",
              "      <td>2162-03-25</td>\n",
              "      <td>NaN</td>\n",
              "      <td>NaN</td>\n",
              "      <td>Discharge summary</td>\n",
              "      <td>Report</td>\n",
              "      <td>NaN</td>\n",
              "      <td>NaN</td>\n",
              "      <td>Admission Date:  [**2162-3-3**]              D...</td>\n",
              "    </tr>\n",
              "  </tbody>\n",
              "</table>\n",
              "</div>"
            ],
            "text/plain": [
              "   ROW_ID  ...                                               TEXT\n",
              "0     174  ...  Admission Date:  [**2151-7-16**]       Dischar...\n",
              "1     175  ...  Admission Date:  [**2118-6-2**]       Discharg...\n",
              "2     176  ...  Admission Date:  [**2119-5-4**]              D...\n",
              "3     177  ...  Admission Date:  [**2124-7-21**]              ...\n",
              "4     178  ...  Admission Date:  [**2162-3-3**]              D...\n",
              "\n",
              "[5 rows x 11 columns]"
            ]
          },
          "metadata": {
            "tags": []
          },
          "execution_count": 7
        }
      ]
    },
    {
      "cell_type": "code",
      "metadata": {
        "id": "kYhWy6S8fIer",
        "colab_type": "code",
        "outputId": "7fa61426-5fef-4bed-96c4-c05136027b2b",
        "colab": {
          "base_uri": "https://localhost:8080/",
          "height": 528
        }
      },
      "source": [
        "note_events.groupby('CATEGORY').count()"
      ],
      "execution_count": 0,
      "outputs": [
        {
          "output_type": "execute_result",
          "data": {
            "text/html": [
              "<div>\n",
              "<style scoped>\n",
              "    .dataframe tbody tr th:only-of-type {\n",
              "        vertical-align: middle;\n",
              "    }\n",
              "\n",
              "    .dataframe tbody tr th {\n",
              "        vertical-align: top;\n",
              "    }\n",
              "\n",
              "    .dataframe thead th {\n",
              "        text-align: right;\n",
              "    }\n",
              "</style>\n",
              "<table border=\"1\" class=\"dataframe\">\n",
              "  <thead>\n",
              "    <tr style=\"text-align: right;\">\n",
              "      <th></th>\n",
              "      <th>ROW_ID</th>\n",
              "      <th>SUBJECT_ID</th>\n",
              "      <th>HADM_ID</th>\n",
              "      <th>CHARTDATE</th>\n",
              "      <th>CHARTTIME</th>\n",
              "      <th>STORETIME</th>\n",
              "      <th>DESCRIPTION</th>\n",
              "      <th>CGID</th>\n",
              "      <th>ISERROR</th>\n",
              "      <th>TEXT</th>\n",
              "    </tr>\n",
              "    <tr>\n",
              "      <th>CATEGORY</th>\n",
              "      <th></th>\n",
              "      <th></th>\n",
              "      <th></th>\n",
              "      <th></th>\n",
              "      <th></th>\n",
              "      <th></th>\n",
              "      <th></th>\n",
              "      <th></th>\n",
              "      <th></th>\n",
              "      <th></th>\n",
              "    </tr>\n",
              "  </thead>\n",
              "  <tbody>\n",
              "    <tr>\n",
              "      <th>Case Management</th>\n",
              "      <td>967</td>\n",
              "      <td>967</td>\n",
              "      <td>954</td>\n",
              "      <td>967</td>\n",
              "      <td>967</td>\n",
              "      <td>967</td>\n",
              "      <td>967</td>\n",
              "      <td>967</td>\n",
              "      <td>14</td>\n",
              "      <td>967</td>\n",
              "    </tr>\n",
              "    <tr>\n",
              "      <th>Consult</th>\n",
              "      <td>98</td>\n",
              "      <td>98</td>\n",
              "      <td>98</td>\n",
              "      <td>98</td>\n",
              "      <td>98</td>\n",
              "      <td>98</td>\n",
              "      <td>98</td>\n",
              "      <td>98</td>\n",
              "      <td>0</td>\n",
              "      <td>98</td>\n",
              "    </tr>\n",
              "    <tr>\n",
              "      <th>Discharge summary</th>\n",
              "      <td>59652</td>\n",
              "      <td>59652</td>\n",
              "      <td>59652</td>\n",
              "      <td>59652</td>\n",
              "      <td>0</td>\n",
              "      <td>0</td>\n",
              "      <td>59652</td>\n",
              "      <td>0</td>\n",
              "      <td>0</td>\n",
              "      <td>59652</td>\n",
              "    </tr>\n",
              "    <tr>\n",
              "      <th>ECG</th>\n",
              "      <td>209051</td>\n",
              "      <td>209051</td>\n",
              "      <td>138190</td>\n",
              "      <td>209051</td>\n",
              "      <td>0</td>\n",
              "      <td>0</td>\n",
              "      <td>209051</td>\n",
              "      <td>0</td>\n",
              "      <td>0</td>\n",
              "      <td>209051</td>\n",
              "    </tr>\n",
              "    <tr>\n",
              "      <th>Echo</th>\n",
              "      <td>45794</td>\n",
              "      <td>45794</td>\n",
              "      <td>34037</td>\n",
              "      <td>45794</td>\n",
              "      <td>0</td>\n",
              "      <td>0</td>\n",
              "      <td>45794</td>\n",
              "      <td>0</td>\n",
              "      <td>0</td>\n",
              "      <td>45794</td>\n",
              "    </tr>\n",
              "    <tr>\n",
              "      <th>General</th>\n",
              "      <td>8301</td>\n",
              "      <td>8301</td>\n",
              "      <td>8209</td>\n",
              "      <td>8301</td>\n",
              "      <td>8260</td>\n",
              "      <td>8301</td>\n",
              "      <td>8301</td>\n",
              "      <td>8301</td>\n",
              "      <td>65</td>\n",
              "      <td>8301</td>\n",
              "    </tr>\n",
              "    <tr>\n",
              "      <th>Nursing</th>\n",
              "      <td>223556</td>\n",
              "      <td>223556</td>\n",
              "      <td>220758</td>\n",
              "      <td>223556</td>\n",
              "      <td>222172</td>\n",
              "      <td>223556</td>\n",
              "      <td>223556</td>\n",
              "      <td>223556</td>\n",
              "      <td>374</td>\n",
              "      <td>223556</td>\n",
              "    </tr>\n",
              "    <tr>\n",
              "      <th>Nursing/other</th>\n",
              "      <td>822497</td>\n",
              "      <td>822497</td>\n",
              "      <td>821258</td>\n",
              "      <td>822497</td>\n",
              "      <td>822497</td>\n",
              "      <td>822497</td>\n",
              "      <td>822497</td>\n",
              "      <td>822497</td>\n",
              "      <td>0</td>\n",
              "      <td>822497</td>\n",
              "    </tr>\n",
              "    <tr>\n",
              "      <th>Nutrition</th>\n",
              "      <td>9418</td>\n",
              "      <td>9418</td>\n",
              "      <td>9378</td>\n",
              "      <td>9418</td>\n",
              "      <td>9411</td>\n",
              "      <td>9418</td>\n",
              "      <td>9418</td>\n",
              "      <td>9418</td>\n",
              "      <td>18</td>\n",
              "      <td>9418</td>\n",
              "    </tr>\n",
              "    <tr>\n",
              "      <th>Pharmacy</th>\n",
              "      <td>103</td>\n",
              "      <td>103</td>\n",
              "      <td>102</td>\n",
              "      <td>103</td>\n",
              "      <td>102</td>\n",
              "      <td>103</td>\n",
              "      <td>103</td>\n",
              "      <td>103</td>\n",
              "      <td>2</td>\n",
              "      <td>103</td>\n",
              "    </tr>\n",
              "    <tr>\n",
              "      <th>Physician</th>\n",
              "      <td>141624</td>\n",
              "      <td>141624</td>\n",
              "      <td>140100</td>\n",
              "      <td>141624</td>\n",
              "      <td>141048</td>\n",
              "      <td>141624</td>\n",
              "      <td>141624</td>\n",
              "      <td>141624</td>\n",
              "      <td>343</td>\n",
              "      <td>141624</td>\n",
              "    </tr>\n",
              "    <tr>\n",
              "      <th>Radiology</th>\n",
              "      <td>522279</td>\n",
              "      <td>522279</td>\n",
              "      <td>378920</td>\n",
              "      <td>522279</td>\n",
              "      <td>522279</td>\n",
              "      <td>0</td>\n",
              "      <td>522279</td>\n",
              "      <td>0</td>\n",
              "      <td>0</td>\n",
              "      <td>522279</td>\n",
              "    </tr>\n",
              "    <tr>\n",
              "      <th>Rehab Services</th>\n",
              "      <td>5431</td>\n",
              "      <td>5431</td>\n",
              "      <td>5409</td>\n",
              "      <td>5431</td>\n",
              "      <td>5429</td>\n",
              "      <td>5431</td>\n",
              "      <td>5431</td>\n",
              "      <td>5431</td>\n",
              "      <td>23</td>\n",
              "      <td>5431</td>\n",
              "    </tr>\n",
              "    <tr>\n",
              "      <th>Respiratory</th>\n",
              "      <td>31739</td>\n",
              "      <td>31739</td>\n",
              "      <td>31667</td>\n",
              "      <td>31739</td>\n",
              "      <td>31703</td>\n",
              "      <td>31739</td>\n",
              "      <td>31739</td>\n",
              "      <td>31739</td>\n",
              "      <td>38</td>\n",
              "      <td>31739</td>\n",
              "    </tr>\n",
              "    <tr>\n",
              "      <th>Social Work</th>\n",
              "      <td>2670</td>\n",
              "      <td>2670</td>\n",
              "      <td>2612</td>\n",
              "      <td>2670</td>\n",
              "      <td>2648</td>\n",
              "      <td>2670</td>\n",
              "      <td>2670</td>\n",
              "      <td>2670</td>\n",
              "      <td>9</td>\n",
              "      <td>2670</td>\n",
              "    </tr>\n",
              "  </tbody>\n",
              "</table>\n",
              "</div>"
            ],
            "text/plain": [
              "                   ROW_ID  SUBJECT_ID  HADM_ID  ...    CGID  ISERROR    TEXT\n",
              "CATEGORY                                        ...                         \n",
              "Case Management       967         967      954  ...     967       14     967\n",
              "Consult                98          98       98  ...      98        0      98\n",
              "Discharge summary   59652       59652    59652  ...       0        0   59652\n",
              "ECG                209051      209051   138190  ...       0        0  209051\n",
              "Echo                45794       45794    34037  ...       0        0   45794\n",
              "General              8301        8301     8209  ...    8301       65    8301\n",
              "Nursing            223556      223556   220758  ...  223556      374  223556\n",
              "Nursing/other      822497      822497   821258  ...  822497        0  822497\n",
              "Nutrition            9418        9418     9378  ...    9418       18    9418\n",
              "Pharmacy              103         103      102  ...     103        2     103\n",
              "Physician          141624      141624   140100  ...  141624      343  141624\n",
              "Radiology          522279      522279   378920  ...       0        0  522279\n",
              "Rehab Services       5431        5431     5409  ...    5431       23    5431\n",
              "Respiratory         31739       31739    31667  ...   31739       38   31739\n",
              "Social Work          2670        2670     2612  ...    2670        9    2670\n",
              "\n",
              "[15 rows x 10 columns]"
            ]
          },
          "metadata": {
            "tags": []
          },
          "execution_count": 8
        }
      ]
    },
    {
      "cell_type": "markdown",
      "metadata": {
        "id": "00G9KAnJfM5U",
        "colab_type": "text"
      },
      "source": [
        "## Diagnoses_ICD Exploration"
      ]
    },
    {
      "cell_type": "code",
      "metadata": {
        "id": "Fjl8X3qpfRMt",
        "colab_type": "code",
        "outputId": "1fc80c23-ed0a-416c-d206-4e63615427f6",
        "colab": {
          "base_uri": "https://localhost:8080/",
          "height": 145
        }
      },
      "source": [
        "diagnoses_icd['ICD9_CODE']=diagnoses_icd['ICD9_CODE'].str.pad(4,'left','0')\n",
        "diagnoses_icd['ICD9_CHAP']=diagnoses_icd['ICD9_CODE'].str.slice(0,3)\n",
        "diagnoses_icd.count()"
      ],
      "execution_count": 0,
      "outputs": [
        {
          "output_type": "execute_result",
          "data": {
            "text/plain": [
              "ROW_ID        651047\n",
              "SUBJECT_ID    651047\n",
              "HADM_ID       651047\n",
              "SEQ_NUM       651000\n",
              "ICD9_CODE     651000\n",
              "ICD9_CHAP     651000\n",
              "dtype: int64"
            ]
          },
          "metadata": {
            "tags": []
          },
          "execution_count": 9
        }
      ]
    },
    {
      "cell_type": "code",
      "metadata": {
        "id": "TxAVQGOnfuDs",
        "colab_type": "code",
        "outputId": "81b3e48f-dc8e-4884-ac00-90b42cc1221a",
        "colab": {
          "base_uri": "https://localhost:8080/",
          "height": 198
        }
      },
      "source": [
        "diagnoses_icd.head()"
      ],
      "execution_count": 0,
      "outputs": [
        {
          "output_type": "execute_result",
          "data": {
            "text/html": [
              "<div>\n",
              "<style scoped>\n",
              "    .dataframe tbody tr th:only-of-type {\n",
              "        vertical-align: middle;\n",
              "    }\n",
              "\n",
              "    .dataframe tbody tr th {\n",
              "        vertical-align: top;\n",
              "    }\n",
              "\n",
              "    .dataframe thead th {\n",
              "        text-align: right;\n",
              "    }\n",
              "</style>\n",
              "<table border=\"1\" class=\"dataframe\">\n",
              "  <thead>\n",
              "    <tr style=\"text-align: right;\">\n",
              "      <th></th>\n",
              "      <th>ROW_ID</th>\n",
              "      <th>SUBJECT_ID</th>\n",
              "      <th>HADM_ID</th>\n",
              "      <th>SEQ_NUM</th>\n",
              "      <th>ICD9_CODE</th>\n",
              "      <th>ICD9_CHAP</th>\n",
              "    </tr>\n",
              "  </thead>\n",
              "  <tbody>\n",
              "    <tr>\n",
              "      <th>0</th>\n",
              "      <td>1297</td>\n",
              "      <td>109</td>\n",
              "      <td>172335</td>\n",
              "      <td>1.0</td>\n",
              "      <td>40301</td>\n",
              "      <td>403</td>\n",
              "    </tr>\n",
              "    <tr>\n",
              "      <th>1</th>\n",
              "      <td>1298</td>\n",
              "      <td>109</td>\n",
              "      <td>172335</td>\n",
              "      <td>2.0</td>\n",
              "      <td>0486</td>\n",
              "      <td>048</td>\n",
              "    </tr>\n",
              "    <tr>\n",
              "      <th>2</th>\n",
              "      <td>1299</td>\n",
              "      <td>109</td>\n",
              "      <td>172335</td>\n",
              "      <td>3.0</td>\n",
              "      <td>58281</td>\n",
              "      <td>582</td>\n",
              "    </tr>\n",
              "    <tr>\n",
              "      <th>3</th>\n",
              "      <td>1300</td>\n",
              "      <td>109</td>\n",
              "      <td>172335</td>\n",
              "      <td>4.0</td>\n",
              "      <td>5855</td>\n",
              "      <td>585</td>\n",
              "    </tr>\n",
              "    <tr>\n",
              "      <th>4</th>\n",
              "      <td>1301</td>\n",
              "      <td>109</td>\n",
              "      <td>172335</td>\n",
              "      <td>5.0</td>\n",
              "      <td>4254</td>\n",
              "      <td>425</td>\n",
              "    </tr>\n",
              "  </tbody>\n",
              "</table>\n",
              "</div>"
            ],
            "text/plain": [
              "   ROW_ID  SUBJECT_ID  HADM_ID  SEQ_NUM ICD9_CODE ICD9_CHAP\n",
              "0    1297         109   172335      1.0     40301       403\n",
              "1    1298         109   172335      2.0      0486       048\n",
              "2    1299         109   172335      3.0     58281       582\n",
              "3    1300         109   172335      4.0      5855       585\n",
              "4    1301         109   172335      5.0      4254       425"
            ]
          },
          "metadata": {
            "tags": []
          },
          "execution_count": 10
        }
      ]
    },
    {
      "cell_type": "code",
      "metadata": {
        "id": "s22fw8x8f1LK",
        "colab_type": "code",
        "colab": {}
      },
      "source": [
        "a = pd.read_csv('/content/drive/Shared drives/NLP Seminar/Data/NOTEEVENTS_SPLIT_1_TOKENIZED_LABELED.csv')"
      ],
      "execution_count": 0,
      "outputs": []
    },
    {
      "cell_type": "code",
      "metadata": {
        "id": "m_4Hq-Lbf3aa",
        "colab_type": "code",
        "outputId": "151629cd-6973-403a-b0c1-3976238d0134",
        "colab": {
          "base_uri": "https://localhost:8080/",
          "height": 406
        }
      },
      "source": [
        "a.hist(figsize= (17, 5))"
      ],
      "execution_count": 0,
      "outputs": [
        {
          "output_type": "execute_result",
          "data": {
            "text/plain": [
              "array([[<matplotlib.axes._subplots.AxesSubplot object at 0x7f7b79ac4668>,\n",
              "        <matplotlib.axes._subplots.AxesSubplot object at 0x7f7b79a9f940>],\n",
              "       [<matplotlib.axes._subplots.AxesSubplot object at 0x7f7b79a56ba8>,\n",
              "        <matplotlib.axes._subplots.AxesSubplot object at 0x7f7b79a08e10>]],\n",
              "      dtype=object)"
            ]
          },
          "metadata": {
            "tags": []
          },
          "execution_count": 4
        },
        {
          "output_type": "display_data",
          "data": {
            "image/png": "[encoded data removed]",
            "text/plain": [
              "<Figure size 1224x360 with 4 Axes>"
            ]
          },
          "metadata": {
            "tags": [],
            "needs_background": "light"
          }
        }
      ]
    },
    {
      "cell_type": "code",
      "metadata": {
        "id": "agq9c1XUf5YD",
        "colab_type": "code",
        "outputId": "16e5f345-e6b4-43de-87c9-eed201099f82",
        "colab": {
          "base_uri": "https://localhost:8080/",
          "height": 197
        }
      },
      "source": [
        "a.head()"
      ],
      "execution_count": 0,
      "outputs": [
        {
          "output_type": "execute_result",
          "data": {
            "text/html": [
              "<div>\n",
              "<style scoped>\n",
              "    .dataframe tbody tr th:only-of-type {\n",
              "        vertical-align: middle;\n",
              "    }\n",
              "\n",
              "    .dataframe tbody tr th {\n",
              "        vertical-align: top;\n",
              "    }\n",
              "\n",
              "    .dataframe thead th {\n",
              "        text-align: right;\n",
              "    }\n",
              "</style>\n",
              "<table border=\"1\" class=\"dataframe\">\n",
              "  <thead>\n",
              "    <tr style=\"text-align: right;\">\n",
              "      <th></th>\n",
              "      <th>Unnamed: 0</th>\n",
              "      <th>SUBJECT_ID</th>\n",
              "      <th>HADM_ID</th>\n",
              "      <th>TEXT</th>\n",
              "      <th>N_TOKENS</th>\n",
              "      <th>LABELS</th>\n",
              "    </tr>\n",
              "  </thead>\n",
              "  <tbody>\n",
              "    <tr>\n",
              "      <th>0</th>\n",
              "      <td>0</td>\n",
              "      <td>3</td>\n",
              "      <td>145834</td>\n",
              "      <td>[['admission', 'date'], ['october'], ['dischar...</td>\n",
              "      <td>2112</td>\n",
              "      <td>['038.9', '785.59', '584.9', '427.5', '410.71'...</td>\n",
              "    </tr>\n",
              "    <tr>\n",
              "      <th>1</th>\n",
              "      <td>1</td>\n",
              "      <td>4</td>\n",
              "      <td>185777</td>\n",
              "      <td>[['admission', 'date'], ['march'], ['discharge...</td>\n",
              "      <td>1429</td>\n",
              "      <td>['042', '136.3', '799.4', '276.3', '790.7', '5...</td>\n",
              "    </tr>\n",
              "    <tr>\n",
              "      <th>2</th>\n",
              "      <td>2</td>\n",
              "      <td>6</td>\n",
              "      <td>107064</td>\n",
              "      <td>[['admission', 'date'], ['may'], ['discharge',...</td>\n",
              "      <td>1026</td>\n",
              "      <td>['403.91', '444.0', '997.2', '276.6', '276.7',...</td>\n",
              "    </tr>\n",
              "    <tr>\n",
              "      <th>3</th>\n",
              "      <td>3</td>\n",
              "      <td>9</td>\n",
              "      <td>150750</td>\n",
              "      <td>[['admission', 'date'], ['november'], ['discha...</td>\n",
              "      <td>1369</td>\n",
              "      <td>['431', '507.0', '428.0', '584.9', '276.5', '4...</td>\n",
              "    </tr>\n",
              "    <tr>\n",
              "      <th>4</th>\n",
              "      <td>4</td>\n",
              "      <td>10</td>\n",
              "      <td>184167</td>\n",
              "      <td>[['admission', 'date'], ['june'], ['discharge'...</td>\n",
              "      <td>507</td>\n",
              "      <td>['V30.00', '774.2', '765.25', '765.15', 'V29.0...</td>\n",
              "    </tr>\n",
              "  </tbody>\n",
              "</table>\n",
              "</div>"
            ],
            "text/plain": [
              "   Unnamed: 0  ...                                             LABELS\n",
              "0           0  ...  ['038.9', '785.59', '584.9', '427.5', '410.71'...\n",
              "1           1  ...  ['042', '136.3', '799.4', '276.3', '790.7', '5...\n",
              "2           2  ...  ['403.91', '444.0', '997.2', '276.6', '276.7',...\n",
              "3           3  ...  ['431', '507.0', '428.0', '584.9', '276.5', '4...\n",
              "4           4  ...  ['V30.00', '774.2', '765.25', '765.15', 'V29.0...\n",
              "\n",
              "[5 rows x 6 columns]"
            ]
          },
          "metadata": {
            "tags": []
          },
          "execution_count": 7
        }
      ]
    },
    {
      "cell_type": "markdown",
      "metadata": {
        "id": "5RgW1SSbZAQ4",
        "colab_type": "text"
      },
      "source": [
        "## Codes Per Visit"
      ]
    },
    {
      "cell_type": "code",
      "metadata": {
        "id": "sZzvbYiyZXUz",
        "colab_type": "code",
        "colab": {}
      },
      "source": [
        "notes_labeled_train = pd.read_csv('/content/drive/Shared drives/NLP Seminar/Data/notes_labeled_train1')\n",
        "notes_labeled_test = pd.read_csv('/content/drive/Shared drives/NLP Seminar/Data/notes_labeled_test1')\n",
        "notes_labeled_dev = pd.read_csv('/content/drive/Shared drives/NLP Seminar/Data/notes_labeled_dev1')"
      ],
      "execution_count": 0,
      "outputs": []
    },
    {
      "cell_type": "code",
      "metadata": {
        "id": "iFxcun8ScV-8",
        "colab_type": "code",
        "outputId": "c4825d67-1e54-4368-8f78-8107c405ee24",
        "colab": {
          "base_uri": "https://localhost:8080/",
          "height": 197
        }
      },
      "source": [
        "notes_labeled_dev.head()"
      ],
      "execution_count": 0,
      "outputs": [
        {
          "output_type": "execute_result",
          "data": {
            "text/html": [
              "<div>\n",
              "<style scoped>\n",
              "    .dataframe tbody tr th:only-of-type {\n",
              "        vertical-align: middle;\n",
              "    }\n",
              "\n",
              "    .dataframe tbody tr th {\n",
              "        vertical-align: top;\n",
              "    }\n",
              "\n",
              "    .dataframe thead th {\n",
              "        text-align: right;\n",
              "    }\n",
              "</style>\n",
              "<table border=\"1\" class=\"dataframe\">\n",
              "  <thead>\n",
              "    <tr style=\"text-align: right;\">\n",
              "      <th></th>\n",
              "      <th>Unnamed: 0</th>\n",
              "      <th>SUBJECT_ID</th>\n",
              "      <th>HADM_ID</th>\n",
              "      <th>TEXT</th>\n",
              "      <th>N_TOKENS</th>\n",
              "      <th>LABELS</th>\n",
              "    </tr>\n",
              "  </thead>\n",
              "  <tbody>\n",
              "    <tr>\n",
              "      <th>0</th>\n",
              "      <td>47454</td>\n",
              "      <td>82609</td>\n",
              "      <td>177315</td>\n",
              "      <td>[['admission', 'date'], ['july'], ['discharge'...</td>\n",
              "      <td>1811</td>\n",
              "      <td>['038.11', '349.82', '421.0', '584.9', '707.03...</td>\n",
              "    </tr>\n",
              "    <tr>\n",
              "      <th>1</th>\n",
              "      <td>47455</td>\n",
              "      <td>82618</td>\n",
              "      <td>192175</td>\n",
              "      <td>[['admission', 'date'], ['september'], ['disch...</td>\n",
              "      <td>1624</td>\n",
              "      <td>['560.9', '584.9', '482.82', '568.0', '401.9',...</td>\n",
              "    </tr>\n",
              "    <tr>\n",
              "      <th>2</th>\n",
              "      <td>47456</td>\n",
              "      <td>82619</td>\n",
              "      <td>112121</td>\n",
              "      <td>[['admission', 'date'], ['may'], ['discharge',...</td>\n",
              "      <td>1400</td>\n",
              "      <td>['424.1', '428.23', '997.1', '287.5', '428.0',...</td>\n",
              "    </tr>\n",
              "    <tr>\n",
              "      <th>3</th>\n",
              "      <td>47457</td>\n",
              "      <td>82621</td>\n",
              "      <td>120965</td>\n",
              "      <td>[['admission', 'date'], ['october'], ['dischar...</td>\n",
              "      <td>1695</td>\n",
              "      <td>['414.01', '411.1', '427.1', '401.9', '788.29'...</td>\n",
              "    </tr>\n",
              "    <tr>\n",
              "      <th>4</th>\n",
              "      <td>47458</td>\n",
              "      <td>82625</td>\n",
              "      <td>170794</td>\n",
              "      <td>[['admission', 'date'], ['july'], ['discharge'...</td>\n",
              "      <td>780</td>\n",
              "      <td>['864.04', '285.1', '868.03', '276.2', 'E816.0...</td>\n",
              "    </tr>\n",
              "  </tbody>\n",
              "</table>\n",
              "</div>"
            ],
            "text/plain": [
              "   Unnamed: 0  ...                                             LABELS\n",
              "0       47454  ...  ['038.11', '349.82', '421.0', '584.9', '707.03...\n",
              "1       47455  ...  ['560.9', '584.9', '482.82', '568.0', '401.9',...\n",
              "2       47456  ...  ['424.1', '428.23', '997.1', '287.5', '428.0',...\n",
              "3       47457  ...  ['414.01', '411.1', '427.1', '401.9', '788.29'...\n",
              "4       47458  ...  ['864.04', '285.1', '868.03', '276.2', 'E816.0...\n",
              "\n",
              "[5 rows x 6 columns]"
            ]
          },
          "metadata": {
            "tags": []
          },
          "execution_count": 26
        }
      ]
    },
    {
      "cell_type": "code",
      "metadata": {
        "id": "SYuxtXFqbblK",
        "colab_type": "code",
        "outputId": "128d1dd4-a58a-4d0a-9f86-c527a0df00d6",
        "colab": {
          "base_uri": "https://localhost:8080/",
          "height": 87
        }
      },
      "source": [
        "print(a.shape)\n",
        "print(notes_labeled_train.shape)\n",
        "print(notes_labeled_test.shape)\n",
        "print(notes_labeled_dev.shape)"
      ],
      "execution_count": 0,
      "outputs": [
        {
          "output_type": "stream",
          "text": [
            "(52726, 6)\n",
            "(36908, 6)\n",
            "(10546, 6)\n",
            "(5272, 6)\n"
          ],
          "name": "stdout"
        }
      ]
    },
    {
      "cell_type": "code",
      "metadata": {
        "id": "nmALi58tZC3Y",
        "colab_type": "code",
        "colab": {}
      },
      "source": [
        "num_codes_per_visit_total = a['LABELS'].apply(lambda x: len(x.split(\",\")))\n",
        "num_codes_per_visit_train = notes_labeled_train['LABELS'].apply(lambda x: len(x.split(\",\")))\n",
        "num_codes_per_visit_test = notes_labeled_test['LABELS'].apply(lambda x: len(x.split(\",\")))\n",
        "num_codes_per_visit_dev = notes_labeled_dev['LABELS'].apply(lambda x: len(x.split(\",\")))"
      ],
      "execution_count": 0,
      "outputs": []
    },
    {
      "cell_type": "code",
      "metadata": {
        "id": "jGtml2CcZnhz",
        "colab_type": "code",
        "outputId": "4c0b5f73-9596-4781-f910-8a5aa2a7271c",
        "colab": {
          "base_uri": "https://localhost:8080/",
          "height": 87
        }
      },
      "source": [
        "print(\"Number of ICD9 codes per visit:       {0:.{1}f}\".format(np.mean(num_codes_per_visit_total),2))\n",
        "print(\"Number of ICD9 codes per visit:       {0:.{1}f}\".format(np.mean(num_codes_per_visit_train),2))\n",
        "print(\"Number of ICD9 codes per visit:       {0:.{1}f}\".format(np.mean(num_codes_per_visit_test),2))\n",
        "print(\"Number of ICD9 codes per visit:       {0:.{1}f}\".format(np.mean(num_codes_per_visit_dev),2))"
      ],
      "execution_count": 0,
      "outputs": [
        {
          "output_type": "stream",
          "text": [
            "Number of ICD9 codes per visit:       16.10\n",
            "Number of ICD9 codes per visit:       15.18\n",
            "Number of ICD9 codes per visit:       18.34\n",
            "Number of ICD9 codes per visit:       18.03\n"
          ],
          "name": "stdout"
        }
      ]
    },
    {
      "cell_type": "markdown",
      "metadata": {
        "id": "p5YGtOO0cDvO",
        "colab_type": "text"
      },
      "source": [
        "# Number Of Unique Patients"
      ]
    },
    {
      "cell_type": "code",
      "metadata": {
        "id": "J1_rjahAcHId",
        "colab_type": "code",
        "outputId": "ac5fc1cd-7472-4c50-8d1e-1fb014b93c6a",
        "colab": {
          "base_uri": "https://localhost:8080/",
          "height": 87
        }
      },
      "source": [
        "print(\"Number of unique subjects: {}\".format(len(a.SUBJECT_ID.unique())))\n",
        "print(\"Number of unique subjects: {}\".format(len(notes_labeled_train.SUBJECT_ID.unique())))\n",
        "print(\"Number of unique subjects: {}\".format(len(notes_labeled_test.SUBJECT_ID.unique())))\n",
        "print(\"Number of unique subjects: {}\".format(len(notes_labeled_dev.SUBJECT_ID.unique())))\n"
      ],
      "execution_count": 0,
      "outputs": [
        {
          "output_type": "stream",
          "text": [
            "Number of unique subjects: 41127\n",
            "Number of unique subjects: 28139\n",
            "Number of unique subjects: 8632\n",
            "Number of unique subjects: 4357\n"
          ],
          "name": "stdout"
        }
      ]
    },
    {
      "cell_type": "markdown",
      "metadata": {
        "id": "oxz9265HeuyJ",
        "colab_type": "text"
      },
      "source": [
        "# Words Per Note"
      ]
    },
    {
      "cell_type": "code",
      "metadata": {
        "id": "qGUoK9bvewTo",
        "colab_type": "code",
        "colab": {}
      },
      "source": [
        "note_size_total = a['TEXT'].apply(lambda x: len(x))\n",
        "note_size_train = notes_labeled_train['TEXT'].apply(lambda x: len(x))\n",
        "note_size_visit_test = notes_labeled_test['TEXT'].apply(lambda x: len(x))\n",
        "note_size_visit_dev = notes_labeled_dev['TEXT'].apply(lambda x: len(x))"
      ],
      "execution_count": 0,
      "outputs": []
    },
    {
      "cell_type": "code",
      "metadata": {
        "id": "8KXLTsW6fkuD",
        "colab_type": "code",
        "outputId": "54b92154-2b90-477b-af80-bb375d6e2ad4",
        "colab": {
          "base_uri": "https://localhost:8080/",
          "height": 34
        }
      },
      "source": [
        "note_size_total[0]"
      ],
      "execution_count": 0,
      "outputs": [
        {
          "output_type": "execute_result",
          "data": {
            "text/plain": [
              "20626"
            ]
          },
          "metadata": {
            "tags": []
          },
          "execution_count": 37
        }
      ]
    },
    {
      "cell_type": "code",
      "metadata": {
        "id": "Yo4Bc6nffEGD",
        "colab_type": "code",
        "outputId": "75563467-1d9e-47da-b33c-c44d5d0d5696",
        "colab": {
          "base_uri": "https://localhost:8080/",
          "height": 87
        }
      },
      "source": [
        "print(\"Average Note Length:       {0:.{1}f}\".format(np.mean(note_size_total),2))\n",
        "print(\"Number of ICD9 codes per visit:       {0:.{1}f}\".format(np.mean(note_size_train),2))\n",
        "print(\"Number of ICD9 codes per visit:       {0:.{1}f}\".format(np.mean(note_size_visit_test),2))\n",
        "print(\"Number of ICD9 codes per visit:       {0:.{1}f}\".format(np.mean(note_size_visit_dev),2))"
      ],
      "execution_count": 0,
      "outputs": [
        {
          "output_type": "stream",
          "text": [
            "Number of ICD9 codes per visit:       14516.35\n",
            "Number of ICD9 codes per visit:       13351.41\n",
            "Number of ICD9 codes per visit:       17242.75\n",
            "Number of ICD9 codes per visit:       17218.02\n"
          ],
          "name": "stdout"
        }
      ]
    },
    {
      "cell_type": "code",
      "metadata": {
        "id": "wuQMotkugCF5",
        "colab_type": "code",
        "outputId": "daf0be50-44cb-46a3-df32-c4fbf506b456",
        "colab": {
          "base_uri": "https://localhost:8080/",
          "height": 72
        }
      },
      "source": [
        "print('Nb codes > 1000 occurences= '+str(len(a[a>1000]))+\n",
        "      '  \\nNb codes 1000-100 occurences = ' +str(len(a[(a<1000)&(a>100)]))\n",
        "      +'  \\nNb codes <100 occurences = ' +str(len(a[a<100])) )"
      ],
      "execution_count": 0,
      "outputs": [
        {
          "output_type": "stream",
          "text": [
            "Nb codes > 1000 occurences= 125  \n",
            "Nb codes 1000-100 occurences = 748  \n",
            "Nb codes <100 occurences = 6093\n"
          ],
          "name": "stdout"
        }
      ]
    },
    {
      "cell_type": "code",
      "metadata": {
        "id": "H64tuHi1gDLO",
        "colab_type": "code",
        "colab": {}
      },
      "source": [
        "a[a>1000].plot(kind='bar',figsize= (17, 10))\n"
      ],
      "execution_count": 0,
      "outputs": []
    },
    {
      "cell_type": "code",
      "metadata": {
        "id": "F0bOlIaigHEe",
        "colab_type": "code",
        "outputId": "9ca50ddd-440a-4dad-9604-1ec91462b440",
        "colab": {
          "base_uri": "https://localhost:8080/",
          "height": 228
        }
      },
      "source": [
        "a=diagnoses_icd.groupby('ICD9_CODE')[ 'HADM_ID'].count()\n",
        "diagnoses_icd_freq=diagnoses_icd[diagnoses_icd['ICD9_CODE'].isin(a[a>1000].keys())]\n",
        "df=diagnoses_icd_freq.groupby('HADM_ID')['ICD9_CODE'].apply(lambda x: \"['%s']\" %\"','\".join(x))\n",
        "df=df.apply(lambda x : eval(x))\n",
        "#diagnoses_icd_freq['HADM_ID']=df.keys()\n",
        "diagnoses_icd_freq=pd.DataFrame(df)\n",
        "diagnoses_icd_freq.head()"
      ],
      "execution_count": 0,
      "outputs": [
        {
          "output_type": "execute_result",
          "data": {
            "text/html": [
              "<div>\n",
              "<style scoped>\n",
              "    .dataframe tbody tr th:only-of-type {\n",
              "        vertical-align: middle;\n",
              "    }\n",
              "\n",
              "    .dataframe tbody tr th {\n",
              "        vertical-align: top;\n",
              "    }\n",
              "\n",
              "    .dataframe thead th {\n",
              "        text-align: right;\n",
              "    }\n",
              "</style>\n",
              "<table border=\"1\" class=\"dataframe\">\n",
              "  <thead>\n",
              "    <tr style=\"text-align: right;\">\n",
              "      <th></th>\n",
              "      <th>ICD9_CODE</th>\n",
              "    </tr>\n",
              "    <tr>\n",
              "      <th>HADM_ID</th>\n",
              "      <th></th>\n",
              "    </tr>\n",
              "  </thead>\n",
              "  <tbody>\n",
              "    <tr>\n",
              "      <th>100001</th>\n",
              "      <td>[5849, V5867, 40390]</td>\n",
              "    </tr>\n",
              "    <tr>\n",
              "      <th>100003</th>\n",
              "      <td>[2851, 07054, 5715, 4019]</td>\n",
              "    </tr>\n",
              "    <tr>\n",
              "      <th>100006</th>\n",
              "      <td>[51881, 0486, 2761, V1251, V1582]</td>\n",
              "    </tr>\n",
              "    <tr>\n",
              "      <th>100007</th>\n",
              "      <td>[0486, 4019]</td>\n",
              "    </tr>\n",
              "    <tr>\n",
              "      <th>100009</th>\n",
              "      <td>[41401, 25000, 27800, 4111, V4582, V1582, 2859...</td>\n",
              "    </tr>\n",
              "  </tbody>\n",
              "</table>\n",
              "</div>"
            ],
            "text/plain": [
              "                                                 ICD9_CODE\n",
              "HADM_ID                                                   \n",
              "100001                                [5849, V5867, 40390]\n",
              "100003                           [2851, 07054, 5715, 4019]\n",
              "100006                   [51881, 0486, 2761, V1251, V1582]\n",
              "100007                                        [0486, 4019]\n",
              "100009   [41401, 25000, 27800, 4111, V4582, V1582, 2859..."
            ]
          },
          "metadata": {
            "tags": []
          },
          "execution_count": 16
        }
      ]
    },
    {
      "cell_type": "markdown",
      "metadata": {
        "id": "CglnpGOSgq7L",
        "colab_type": "text"
      },
      "source": [
        "## Selection of the most frequent ICD chapters\n"
      ]
    },
    {
      "cell_type": "code",
      "metadata": {
        "id": "A88vJUkigeTM",
        "colab_type": "code",
        "colab": {}
      },
      "source": [
        "a=diagnoses_icd.groupby('ICD9_CHAP')[ 'HADM_ID'].count().sort_values(ascending=False)\n"
      ],
      "execution_count": 0,
      "outputs": []
    },
    {
      "cell_type": "code",
      "metadata": {
        "id": "393wbL96gxQr",
        "colab_type": "code",
        "outputId": "03fdad95-041b-48fc-c948-9d8b79f4221e",
        "colab": {
          "base_uri": "https://localhost:8080/",
          "height": 72
        }
      },
      "source": [
        "print('number of codes per chapter > 1000 occurences= '+str(len(a[a>1000]))+\n",
        "      '  \\nNb number of codes per chapter 1000-100 occurences = ' +str(len(a[(a<1000)&(a>100)]))\n",
        "      +'  \\nNb number of codes per chapter<100 occurences = ' +str(len(a[a<100])) )"
      ],
      "execution_count": 0,
      "outputs": [
        {
          "output_type": "stream",
          "text": [
            "number of codes per chapter > 1000 occurences= 139  \n",
            "Nb number of codes per chapter 1000-100 occurences = 266  \n",
            "Nb number of codes per chapter<100 occurences = 485\n"
          ],
          "name": "stdout"
        }
      ]
    },
    {
      "cell_type": "markdown",
      "metadata": {
        "id": "0My8mFu5hFRb",
        "colab_type": "text"
      },
      "source": [
        "Selecting datapoints with code belonging to most frequent codes"
      ]
    },
    {
      "cell_type": "code",
      "metadata": {
        "id": "MCT-t05Ng3b7",
        "colab_type": "code",
        "colab": {}
      },
      "source": [
        "a=diagnoses_icd.groupby('ICD9_CHAP')['HADM_ID'].count()\n",
        "diagnoses_icd_chap_freq=diagnoses_icd[diagnoses_icd['ICD9_CHAP'].isin(a[a>1000].keys())]"
      ],
      "execution_count": 0,
      "outputs": []
    },
    {
      "cell_type": "code",
      "metadata": {
        "id": "kHtoTne0hQVq",
        "colab_type": "code",
        "outputId": "f5dfb293-0826-4f4e-ca58-ca8333333bb9",
        "colab": {
          "base_uri": "https://localhost:8080/",
          "height": 54
        }
      },
      "source": [
        "print('Number of datapoints selected = '+str(diagnoses_icd_chap_freq['HADM_ID'].nunique())+\n",
        "      '  \\n Number of ICD chapters selected = ' +str(diagnoses_icd_chap_freq['ICD9_CHAP'].nunique()))"
      ],
      "execution_count": 0,
      "outputs": [
        {
          "output_type": "stream",
          "text": [
            "Number of datapoints selected = 58653  \n",
            " Number of ICD chapters selected = 139\n"
          ],
          "name": "stdout"
        }
      ]
    },
    {
      "cell_type": "code",
      "metadata": {
        "id": "Z-xq3-wDhdoK",
        "colab_type": "code",
        "outputId": "7fd2c606-0d50-4f8d-a21c-73c39dd87aac",
        "colab": {
          "base_uri": "https://localhost:8080/",
          "height": 635
        }
      },
      "source": [
        "diagnoses_icd_chap_freq.groupby('ICD9_CHAP')['HADM_ID'].count().sort_values(ascending=False).plot(kind='bar',figsize= (17, 10))\n"
      ],
      "execution_count": 0,
      "outputs": [
        {
          "output_type": "execute_result",
          "data": {
            "text/plain": [
              "<matplotlib.axes._subplots.AxesSubplot at 0x7f4420d58198>"
            ]
          },
          "metadata": {
            "tags": []
          },
          "execution_count": 21
        },
        {
          "output_type": "display_data",
          "data": {
            "image/png": "[encoded data removed]",
            "text/plain": [
              "<Figure size 1224x720 with 1 Axes>"
            ]
          },
          "metadata": {
            "tags": []
          }
        }
      ]
    },
    {
      "cell_type": "code",
      "metadata": {
        "id": "_8fSkGOYhi6K",
        "colab_type": "code",
        "outputId": "ebaab0d5-f1e3-47ba-d298-21853d8b1836",
        "colab": {
          "base_uri": "https://localhost:8080/",
          "height": 228
        }
      },
      "source": [
        "df=diagnoses_icd_chap_freq.groupby('HADM_ID',)['ICD9_CHAP'].apply(lambda x: \"['%s']\" %\"','\".join(x))\n",
        "df=df.apply(lambda x : eval(x))\n",
        "diagnoses_icd_chap_freq=pd.DataFrame(df)\n",
        "#diagnoses_icd_chap_freq['HADM_ID']=df.keys()\n",
        "diagnoses_icd_chap_freq.head()"
      ],
      "execution_count": 0,
      "outputs": [
        {
          "output_type": "execute_result",
          "data": {
            "text/html": [
              "<div>\n",
              "<style scoped>\n",
              "    .dataframe tbody tr th:only-of-type {\n",
              "        vertical-align: middle;\n",
              "    }\n",
              "\n",
              "    .dataframe tbody tr th {\n",
              "        vertical-align: top;\n",
              "    }\n",
              "\n",
              "    .dataframe thead th {\n",
              "        text-align: right;\n",
              "    }\n",
              "</style>\n",
              "<table border=\"1\" class=\"dataframe\">\n",
              "  <thead>\n",
              "    <tr style=\"text-align: right;\">\n",
              "      <th></th>\n",
              "      <th>ICD9_CHAP</th>\n",
              "    </tr>\n",
              "    <tr>\n",
              "      <th>HADM_ID</th>\n",
              "      <th></th>\n",
              "    </tr>\n",
              "  </thead>\n",
              "  <tbody>\n",
              "    <tr>\n",
              "      <th>100001</th>\n",
              "      <td>[250, 584, 578, V58, 250, 458, 250, 403, 585, ...</td>\n",
              "    </tr>\n",
              "    <tr>\n",
              "      <th>100003</th>\n",
              "      <td>[285, 070, 571, 456, 401, 535]</td>\n",
              "    </tr>\n",
              "    <tr>\n",
              "      <th>100006</th>\n",
              "      <td>[493, 518, 048, 276, 785, V12, V15]</td>\n",
              "    </tr>\n",
              "    <tr>\n",
              "      <th>100007</th>\n",
              "      <td>[560, 997, 048, 401]</td>\n",
              "    </tr>\n",
              "    <tr>\n",
              "      <th>100009</th>\n",
              "      <td>[414, 996, 414, 250, 278, 414, 411, V45, V15, ...</td>\n",
              "    </tr>\n",
              "  </tbody>\n",
              "</table>\n",
              "</div>"
            ],
            "text/plain": [
              "                                                 ICD9_CHAP\n",
              "HADM_ID                                                   \n",
              "100001   [250, 584, 578, V58, 250, 458, 250, 403, 585, ...\n",
              "100003                      [285, 070, 571, 456, 401, 535]\n",
              "100006                 [493, 518, 048, 276, 785, V12, V15]\n",
              "100007                                [560, 997, 048, 401]\n",
              "100009   [414, 996, 414, 250, 278, 414, 411, V45, V15, ..."
            ]
          },
          "metadata": {
            "tags": []
          },
          "execution_count": 22
        }
      ]
    },
    {
      "cell_type": "markdown",
      "metadata": {
        "id": "eNw8RhvjzH-7",
        "colab_type": "text"
      },
      "source": [
        "**Build the final X and y**\n",
        "\n",
        "Merge of the most important notes to make a single text by hospitalisation.\n",
        "\n",
        "In the first place we will focus on discharge summaries."
      ]
    },
    {
      "cell_type": "code",
      "metadata": {
        "id": "tHRkBgdqy8cM",
        "colab_type": "code",
        "outputId": "c0a6cb5f-79a3-483e-b5f4-5124b32cdf53",
        "colab": {
          "base_uri": "https://localhost:8080/",
          "height": 228
        }
      },
      "source": [
        "selected_doc=['Discharge summary']\n",
        "df=note_events[note_events['CATEGORY'].isin(selected_doc)].groupby('HADM_ID')['TEXT'].apply(lambda x: \"{%s}\" % ', '.join(x))\n",
        "df2=pd.DataFrame(df)\n",
        "#df2['HADM_ID']=df.keys()\n",
        "df2.head()"
      ],
      "execution_count": 0,
      "outputs": [
        {
          "output_type": "execute_result",
          "data": {
            "text/html": [
              "<div>\n",
              "<style scoped>\n",
              "    .dataframe tbody tr th:only-of-type {\n",
              "        vertical-align: middle;\n",
              "    }\n",
              "\n",
              "    .dataframe tbody tr th {\n",
              "        vertical-align: top;\n",
              "    }\n",
              "\n",
              "    .dataframe thead th {\n",
              "        text-align: right;\n",
              "    }\n",
              "</style>\n",
              "<table border=\"1\" class=\"dataframe\">\n",
              "  <thead>\n",
              "    <tr style=\"text-align: right;\">\n",
              "      <th></th>\n",
              "      <th>TEXT</th>\n",
              "    </tr>\n",
              "    <tr>\n",
              "      <th>HADM_ID</th>\n",
              "      <th></th>\n",
              "    </tr>\n",
              "  </thead>\n",
              "  <tbody>\n",
              "    <tr>\n",
              "      <th>100001.0</th>\n",
              "      <td>{Admission Date:  [**2117-9-11**]             ...</td>\n",
              "    </tr>\n",
              "    <tr>\n",
              "      <th>100003.0</th>\n",
              "      <td>{Admission Date:  [**2150-4-17**]             ...</td>\n",
              "    </tr>\n",
              "    <tr>\n",
              "      <th>100006.0</th>\n",
              "      <td>{Admission Date:  [**2108-4-6**]       Dischar...</td>\n",
              "    </tr>\n",
              "    <tr>\n",
              "      <th>100007.0</th>\n",
              "      <td>{Admission Date:  [**2145-3-31**]             ...</td>\n",
              "    </tr>\n",
              "    <tr>\n",
              "      <th>100009.0</th>\n",
              "      <td>{Admission Date:  [**2162-5-16**]             ...</td>\n",
              "    </tr>\n",
              "  </tbody>\n",
              "</table>\n",
              "</div>"
            ],
            "text/plain": [
              "                                                       TEXT\n",
              "HADM_ID                                                    \n",
              "100001.0  {Admission Date:  [**2117-9-11**]             ...\n",
              "100003.0  {Admission Date:  [**2150-4-17**]             ...\n",
              "100006.0  {Admission Date:  [**2108-4-6**]       Dischar...\n",
              "100007.0  {Admission Date:  [**2145-3-31**]             ...\n",
              "100009.0  {Admission Date:  [**2162-5-16**]             ..."
            ]
          },
          "metadata": {
            "tags": []
          },
          "execution_count": 23
        }
      ]
    },
    {
      "cell_type": "markdown",
      "metadata": {
        "id": "WSoxjJI7zWr1",
        "colab_type": "text"
      },
      "source": [
        "Create one dataframe for selected diagnoses with merge with texts on HADM_ID, and the other one for selected chapters, and concatenate them to have the final dataframe that will be use for prediction\n",
        "\n"
      ]
    },
    {
      "cell_type": "code",
      "metadata": {
        "id": "hP53dPHIEK9s",
        "colab_type": "code",
        "outputId": "cad23691-d927-4b81-cb0b-7798c42d518d",
        "colab": {
          "base_uri": "https://localhost:8080/",
          "height": 198
        }
      },
      "source": [
        "df2=df2.reset_index()\n",
        "df2.head()"
      ],
      "execution_count": 0,
      "outputs": [
        {
          "output_type": "execute_result",
          "data": {
            "text/html": [
              "<div>\n",
              "<style scoped>\n",
              "    .dataframe tbody tr th:only-of-type {\n",
              "        vertical-align: middle;\n",
              "    }\n",
              "\n",
              "    .dataframe tbody tr th {\n",
              "        vertical-align: top;\n",
              "    }\n",
              "\n",
              "    .dataframe thead th {\n",
              "        text-align: right;\n",
              "    }\n",
              "</style>\n",
              "<table border=\"1\" class=\"dataframe\">\n",
              "  <thead>\n",
              "    <tr style=\"text-align: right;\">\n",
              "      <th></th>\n",
              "      <th>HADM_ID</th>\n",
              "      <th>TEXT</th>\n",
              "    </tr>\n",
              "  </thead>\n",
              "  <tbody>\n",
              "    <tr>\n",
              "      <th>0</th>\n",
              "      <td>100001.0</td>\n",
              "      <td>{Admission Date:  [**2117-9-11**]             ...</td>\n",
              "    </tr>\n",
              "    <tr>\n",
              "      <th>1</th>\n",
              "      <td>100003.0</td>\n",
              "      <td>{Admission Date:  [**2150-4-17**]             ...</td>\n",
              "    </tr>\n",
              "    <tr>\n",
              "      <th>2</th>\n",
              "      <td>100006.0</td>\n",
              "      <td>{Admission Date:  [**2108-4-6**]       Dischar...</td>\n",
              "    </tr>\n",
              "    <tr>\n",
              "      <th>3</th>\n",
              "      <td>100007.0</td>\n",
              "      <td>{Admission Date:  [**2145-3-31**]             ...</td>\n",
              "    </tr>\n",
              "    <tr>\n",
              "      <th>4</th>\n",
              "      <td>100009.0</td>\n",
              "      <td>{Admission Date:  [**2162-5-16**]             ...</td>\n",
              "    </tr>\n",
              "  </tbody>\n",
              "</table>\n",
              "</div>"
            ],
            "text/plain": [
              "    HADM_ID                                               TEXT\n",
              "0  100001.0  {Admission Date:  [**2117-9-11**]             ...\n",
              "1  100003.0  {Admission Date:  [**2150-4-17**]             ...\n",
              "2  100006.0  {Admission Date:  [**2108-4-6**]       Dischar...\n",
              "3  100007.0  {Admission Date:  [**2145-3-31**]             ...\n",
              "4  100009.0  {Admission Date:  [**2162-5-16**]             ..."
            ]
          },
          "metadata": {
            "tags": []
          },
          "execution_count": 26
        }
      ]
    },
    {
      "cell_type": "code",
      "metadata": {
        "id": "L9q2jVjMEPYK",
        "colab_type": "code",
        "outputId": "02891201-96fc-4032-db93-8441cbae739a",
        "colab": {
          "base_uri": "https://localhost:8080/",
          "height": 198
        }
      },
      "source": [
        "diagnoses_icd_chap_freq=diagnoses_icd_chap_freq.reset_index()\n",
        "diagnoses_icd_chap_freq.head()"
      ],
      "execution_count": 0,
      "outputs": [
        {
          "output_type": "execute_result",
          "data": {
            "text/html": [
              "<div>\n",
              "<style scoped>\n",
              "    .dataframe tbody tr th:only-of-type {\n",
              "        vertical-align: middle;\n",
              "    }\n",
              "\n",
              "    .dataframe tbody tr th {\n",
              "        vertical-align: top;\n",
              "    }\n",
              "\n",
              "    .dataframe thead th {\n",
              "        text-align: right;\n",
              "    }\n",
              "</style>\n",
              "<table border=\"1\" class=\"dataframe\">\n",
              "  <thead>\n",
              "    <tr style=\"text-align: right;\">\n",
              "      <th></th>\n",
              "      <th>HADM_ID</th>\n",
              "      <th>ICD9_CHAP</th>\n",
              "    </tr>\n",
              "  </thead>\n",
              "  <tbody>\n",
              "    <tr>\n",
              "      <th>0</th>\n",
              "      <td>100001</td>\n",
              "      <td>[250, 584, 578, V58, 250, 458, 250, 403, 585, ...</td>\n",
              "    </tr>\n",
              "    <tr>\n",
              "      <th>1</th>\n",
              "      <td>100003</td>\n",
              "      <td>[285, 070, 571, 456, 401, 535]</td>\n",
              "    </tr>\n",
              "    <tr>\n",
              "      <th>2</th>\n",
              "      <td>100006</td>\n",
              "      <td>[493, 518, 048, 276, 785, V12, V15]</td>\n",
              "    </tr>\n",
              "    <tr>\n",
              "      <th>3</th>\n",
              "      <td>100007</td>\n",
              "      <td>[560, 997, 048, 401]</td>\n",
              "    </tr>\n",
              "    <tr>\n",
              "      <th>4</th>\n",
              "      <td>100009</td>\n",
              "      <td>[414, 996, 414, 250, 278, 414, 411, V45, V15, ...</td>\n",
              "    </tr>\n",
              "  </tbody>\n",
              "</table>\n",
              "</div>"
            ],
            "text/plain": [
              "   HADM_ID                                          ICD9_CHAP\n",
              "0   100001  [250, 584, 578, V58, 250, 458, 250, 403, 585, ...\n",
              "1   100003                     [285, 070, 571, 456, 401, 535]\n",
              "2   100006                [493, 518, 048, 276, 785, V12, V15]\n",
              "3   100007                               [560, 997, 048, 401]\n",
              "4   100009  [414, 996, 414, 250, 278, 414, 411, V45, V15, ..."
            ]
          },
          "metadata": {
            "tags": []
          },
          "execution_count": 27
        }
      ]
    },
    {
      "cell_type": "code",
      "metadata": {
        "id": "BA1SCpsSzUid",
        "colab_type": "code",
        "colab": {}
      },
      "source": [
        "note_diagnones=pd.merge(df2,diagnoses_icd_chap_freq[['HADM_ID','ICD9_CHAP']],on='HADM_ID')\n",
        "\n"
      ],
      "execution_count": 0,
      "outputs": []
    },
    {
      "cell_type": "code",
      "metadata": {
        "id": "vycHvELrzf8z",
        "colab_type": "code",
        "outputId": "5fdd9716-6fe2-450a-eda7-5edee0c479e3",
        "colab": {
          "base_uri": "https://localhost:8080/",
          "height": 198
        }
      },
      "source": [
        "note_diagnones.head()"
      ],
      "execution_count": 0,
      "outputs": [
        {
          "output_type": "execute_result",
          "data": {
            "text/html": [
              "<div>\n",
              "<style scoped>\n",
              "    .dataframe tbody tr th:only-of-type {\n",
              "        vertical-align: middle;\n",
              "    }\n",
              "\n",
              "    .dataframe tbody tr th {\n",
              "        vertical-align: top;\n",
              "    }\n",
              "\n",
              "    .dataframe thead th {\n",
              "        text-align: right;\n",
              "    }\n",
              "</style>\n",
              "<table border=\"1\" class=\"dataframe\">\n",
              "  <thead>\n",
              "    <tr style=\"text-align: right;\">\n",
              "      <th></th>\n",
              "      <th>HADM_ID</th>\n",
              "      <th>TEXT</th>\n",
              "      <th>ICD9_CHAP</th>\n",
              "    </tr>\n",
              "  </thead>\n",
              "  <tbody>\n",
              "    <tr>\n",
              "      <th>0</th>\n",
              "      <td>100001.0</td>\n",
              "      <td>{Admission Date:  [**2117-9-11**]             ...</td>\n",
              "      <td>[250, 584, 578, V58, 250, 458, 250, 403, 585, ...</td>\n",
              "    </tr>\n",
              "    <tr>\n",
              "      <th>1</th>\n",
              "      <td>100003.0</td>\n",
              "      <td>{Admission Date:  [**2150-4-17**]             ...</td>\n",
              "      <td>[285, 070, 571, 456, 401, 535]</td>\n",
              "    </tr>\n",
              "    <tr>\n",
              "      <th>2</th>\n",
              "      <td>100006.0</td>\n",
              "      <td>{Admission Date:  [**2108-4-6**]       Dischar...</td>\n",
              "      <td>[493, 518, 048, 276, 785, V12, V15]</td>\n",
              "    </tr>\n",
              "    <tr>\n",
              "      <th>3</th>\n",
              "      <td>100007.0</td>\n",
              "      <td>{Admission Date:  [**2145-3-31**]             ...</td>\n",
              "      <td>[560, 997, 048, 401]</td>\n",
              "    </tr>\n",
              "    <tr>\n",
              "      <th>4</th>\n",
              "      <td>100009.0</td>\n",
              "      <td>{Admission Date:  [**2162-5-16**]             ...</td>\n",
              "      <td>[414, 996, 414, 250, 278, 414, 411, V45, V15, ...</td>\n",
              "    </tr>\n",
              "  </tbody>\n",
              "</table>\n",
              "</div>"
            ],
            "text/plain": [
              "    HADM_ID  ...                                          ICD9_CHAP\n",
              "0  100001.0  ...  [250, 584, 578, V58, 250, 458, 250, 403, 585, ...\n",
              "1  100003.0  ...                     [285, 070, 571, 456, 401, 535]\n",
              "2  100006.0  ...                [493, 518, 048, 276, 785, V12, V15]\n",
              "3  100007.0  ...                               [560, 997, 048, 401]\n",
              "4  100009.0  ...  [414, 996, 414, 250, 278, 414, 411, V45, V15, ...\n",
              "\n",
              "[5 rows x 3 columns]"
            ]
          },
          "metadata": {
            "tags": []
          },
          "execution_count": 29
        }
      ]
    },
    {
      "cell_type": "code",
      "metadata": {
        "id": "SKFNdARyEeL9",
        "colab_type": "code",
        "outputId": "39c24b46-d218-4759-d3c0-5c8239c2151d",
        "colab": {
          "base_uri": "https://localhost:8080/",
          "height": 35
        }
      },
      "source": [
        "note_diagnones.shape"
      ],
      "execution_count": 0,
      "outputs": [
        {
          "output_type": "execute_result",
          "data": {
            "text/plain": [
              "(52514, 3)"
            ]
          },
          "metadata": {
            "tags": []
          },
          "execution_count": 30
        }
      ]
    },
    {
      "cell_type": "code",
      "metadata": {
        "id": "IlCUl_DCEhWV",
        "colab_type": "code",
        "outputId": "d55bf8e8-e32d-49d1-ee22-82fa32dfe664",
        "colab": {
          "base_uri": "https://localhost:8080/",
          "height": 54
        }
      },
      "source": [
        "from sklearn import model_selection\n",
        "train, test = model_selection.train_test_split(note_diagnones[['HADM_ID','TEXT','ICD9_CHAP']],test_size=0.2)\n",
        "print('Size of train: '+str(train.shape[0])+' \\nSize of test: '+str(test.shape[0]) )\n"
      ],
      "execution_count": 0,
      "outputs": [
        {
          "output_type": "stream",
          "text": [
            "Size of train: 42011 \n",
            "Size of test: 10503\n"
          ],
          "name": "stdout"
        }
      ]
    },
    {
      "cell_type": "code",
      "metadata": {
        "id": "pb6arWBUEp7f",
        "colab_type": "code",
        "colab": {}
      },
      "source": [
        "train.to_csv('/content/drive/Shared drives/NLP Seminar/Data/train.csv',index=False)\n",
        "test.to_csv('/content/drive/Shared drives/NLP Seminar/Data/test.csv',index=False)"
      ],
      "execution_count": 0,
      "outputs": []
    },
    {
      "cell_type": "code",
      "metadata": {
        "id": "iH01UaHJE3OS",
        "colab_type": "code",
        "colab": {}
      },
      "source": [
        ""
      ],
      "execution_count": 0,
      "outputs": []
    }
  ]
}